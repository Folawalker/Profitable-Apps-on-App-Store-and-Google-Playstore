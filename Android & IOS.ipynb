{
 "cells": [
  {
   "cell_type": "markdown",
   "id": "bb6d005b-9f86-42fe-a357-2a4b42cdd278",
   "metadata": {},
   "source": [
    "## High-Profit App Strategies for the App Store and Google Play\n",
    "\n",
    "Our goal in this project is to identify mobile app profiles that are profitable in the App Store and Google Play markets. As data analysts for a company specializing in Android and iOS app development, we aim to provide our developers with data-driven insights to guide their decisions on which types of apps to create.\n",
    "\n",
    "Our company focuses exclusively on free-to-download apps, with in-app advertising as our primary revenue source. Therefore, the profitability of an app is directly tied to the number of users it attracts. The objective of this project is to analyze data that will help our developers understand which types of apps are most likely to draw a large user base."
   ]
  },
  {
   "cell_type": "code",
   "execution_count": 2,
   "id": "7ff2785d-d51c-4217-9fe8-334059006243",
   "metadata": {},
   "outputs": [],
   "source": [
    "from csv import reader\n",
    "\n",
    "### The Google Play data set ###\n",
    "opened_file = open('googleplaystore.csv', encoding='utf-8-sig')\n",
    "read_file = reader(opened_file)\n",
    "android = list(read_file)\n",
    "android_header = android[0]\n",
    "android = android[1:]\n",
    "\n",
    "### The App Store data set ###\n",
    "opened_file = open('AppleStore.csv', encoding='utf-8-sig')\n",
    "read_file = reader(opened_file)\n",
    "ios = list(read_file)\n",
    "ios_header = ios[0]\n",
    "ios = ios[1:]"
   ]
  },
  {
   "cell_type": "markdown",
   "id": "3cbf2f1b-fdb7-405f-b60d-9afa5605f649",
   "metadata": {},
   "source": [
    "The `explore_data()` function does the following:\n",
    "\n",
    "- Takes in four parameters:\n",
    "    - Dataset, which will be a list of lists.\n",
    "    - `Start` and `end`, which will both be integers and represent the starting and the ending indices of a slice from the dataset.\n",
    "    - `Rows_and_columns`, which is expected to be a Boolean and has `False` as a default argument.\n",
    "- Slices the dataset using `dataset[start:end]`.\n",
    "- Loops through the slice, and for each iteration, prints a row and adds a new line after that row using `print('\\n')`.\n",
    "    The `\\n` in `print('\\n')` is a special character that won't print. Instead, the `\\n` character adds a new line, and we use `print('\\n')` to add some blank space between rows.\n",
    "- Prints the number of rows and columns if `rows_and_columns` is `True`. `Dataset` shouldn't have a header row, or the function will print the wrong number of rows (one more row compared to the actual length)."
   ]
  },
  {
   "cell_type": "code",
   "execution_count": 4,
   "id": "01eaf9a4-e0ab-46ba-a17a-4bd0a0f03641",
   "metadata": {},
   "outputs": [],
   "source": [
    "def explore_data(dataset, start, end, rows_and_columns=False):\n",
    "    dataset_slice = dataset[start:end]    \n",
    "    for row in dataset_slice:\n",
    "        print(row)\n",
    "        print('\\n') # adds a new (empty) line after each row\n",
    "\n",
    "    if rows_and_columns:\n",
    "        print('Number of rows:', len(dataset))\n",
    "        print('Number of columns:', len(dataset[0])) # this helps it omit the first row which contains the header"
   ]
  },
  {
   "cell_type": "code",
   "execution_count": 5,
   "id": "c76007f3-b4e9-4057-9237-cc6bee96084a",
   "metadata": {},
   "outputs": [],
   "source": [
    "opened_file = open('AppleStore.csv')\n",
    "from csv import reader\n",
    "read_file = reader(opened_file)"
   ]
  },
  {
   "cell_type": "code",
   "execution_count": 6,
   "id": "597ef072-3a08-4cca-91d2-be6ba943fb47",
   "metadata": {},
   "outputs": [
    {
     "name": "stdout",
     "output_type": "stream",
     "text": [
      "['281940292', 'WeatherBug - Local Weather, Radar, Maps, Alerts', '100524032', 'USD', '0', '188583', '2822', '3.5', '4.5', '5.0.0', '4+', 'Weather', '37', '5', '3', '1']\n",
      "['282614216', 'eBay: Best App to Buy, Sell, Save! Online Shopping', '128512000', 'USD', '0', '262241', '649', '4', '4.5', '5.10.0', '12+', 'Shopping', '37', '5', '9', '1']\n",
      "['282935706', 'Bible', '92774400', 'USD', '0', '985920', '5320', '4.5', '5', '7.5.1', '4+', 'Reference', '37', '5', '45', '1']\n"
     ]
    }
   ],
   "source": [
    "print(ios[2])\n",
    "print(ios[3])\n",
    "print(ios[4])"
   ]
  },
  {
   "cell_type": "code",
   "execution_count": 7,
   "id": "80f6949d-75f8-478b-a187-a8042038febd",
   "metadata": {},
   "outputs": [
    {
     "name": "stdout",
     "output_type": "stream",
     "text": [
      "['281940292', 'WeatherBug - Local Weather, Radar, Maps, Alerts', '100524032', 'USD', '0', '188583', '2822', '3.5', '4.5', '5.0.0', '4+', 'Weather', '37', '5', '3', '1']\n",
      "\n",
      "\n",
      "['282614216', 'eBay: Best App to Buy, Sell, Save! Online Shopping', '128512000', 'USD', '0', '262241', '649', '4', '4.5', '5.10.0', '12+', 'Shopping', '37', '5', '9', '1']\n",
      "\n",
      "\n",
      "['282935706', 'Bible', '92774400', 'USD', '0', '985920', '5320', '4.5', '5', '7.5.1', '4+', 'Reference', '37', '5', '45', '1']\n"
     ]
    }
   ],
   "source": [
    "print(ios[2])\n",
    "print('\\n')\n",
    "print(ios[3])\n",
    "print('\\n')\n",
    "print(ios[4])"
   ]
  },
  {
   "cell_type": "code",
   "execution_count": 8,
   "id": "88f2bf84-27b4-49c7-9178-148ac386244e",
   "metadata": {},
   "outputs": [
    {
     "name": "stdout",
     "output_type": "stream",
     "text": [
      "['App', 'Category', 'Rating', 'Reviews', 'Size', 'Installs', 'Type', 'Price', 'Content Rating', 'Genres', 'Last Updated', 'Current Ver', 'Android Ver']\n",
      "\n",
      "\n",
      "['Photo Editor & Candy Camera & Grid & ScrapBook', 'ART_AND_DESIGN', '4.1', '159', '19M', '10,000+', 'Free', '0', 'Everyone', 'Art & Design', '7-Jan-18', '1.0.0', '4.0.3 and up']\n",
      "\n",
      "\n",
      "['Coloring book moana', 'ART_AND_DESIGN', '3.9', '967', '14M', '500,000+', 'Free', '0', 'Everyone', 'Art & Design;Pretend Play', '15-Jan-18', '2.0.0', '4.0.3 and up']\n",
      "\n",
      "\n",
      "['U Launcher Lite â€“ FREE Live Cool Themes, Hide Apps', 'ART_AND_DESIGN', '4.7', '87510', '8.7M', '5,000,000+', 'Free', '0', 'Everyone', 'Art & Design', '1-Aug-18', '1.2.4', '4.0.3 and up']\n",
      "\n",
      "\n",
      "Number of rows: 10841\n",
      "Number of columns: 13\n"
     ]
    }
   ],
   "source": [
    "print(android_header)\n",
    "print('\\n')\n",
    "explore_data(android, 0, 3, True)"
   ]
  },
  {
   "cell_type": "markdown",
   "id": "56435de5-88c0-4f53-8ebe-35d37b735a2b",
   "metadata": {},
   "source": [
    "We see that the *Google Play* data set has **10841 apps and 13 columns**. At a quick glance, the columns that might be useful for the purpose of our analysis are `'App'`, `'Category'`, `'Reviews'`, `'Installs'`, `'Type'`, `'Price'`, and `'Genres'`."
   ]
  },
  {
   "cell_type": "code",
   "execution_count": 10,
   "id": "c89ad00a-4203-4caf-a544-a1b2f1c05e8a",
   "metadata": {},
   "outputs": [
    {
     "name": "stdout",
     "output_type": "stream",
     "text": [
      "['id', 'track_name', 'size_bytes', 'currency', 'price', 'rating_count_tot', 'rating_count_ver', 'user_rating', 'user_rating_ver', 'ver', 'cont_rating', 'prime_genre', 'sup_devices.num', 'ipadSc_urls.num', 'lang.num', 'vpp_lic']\n",
      "\n",
      "\n",
      "['281656475', 'PAC-MAN Premium', '100788224', 'USD', '3.99', '21292', '26', '4', '4.5', '6.3.5', '4+', 'Games', '38', '5', '10', '1']\n",
      "\n",
      "\n",
      "['281796108', 'Evernote - stay organized', '158578688', 'USD', '0', '161065', '26', '4', '3.5', '8.2.2', '4+', 'Productivity', '37', '5', '23', '1']\n",
      "\n",
      "\n",
      "['281940292', 'WeatherBug - Local Weather, Radar, Maps, Alerts', '100524032', 'USD', '0', '188583', '2822', '3.5', '4.5', '5.0.0', '4+', 'Weather', '37', '5', '3', '1']\n",
      "\n",
      "\n",
      "Number of rows: 7197\n",
      "Number of columns: 16\n"
     ]
    }
   ],
   "source": [
    "print(ios_header)\n",
    "print('\\n')\n",
    "explore_data(ios, 0, 3, True)"
   ]
  },
  {
   "cell_type": "markdown",
   "id": "8ec9363b-dfb3-416d-97b8-9f116e52eeeb",
   "metadata": {},
   "source": [
    "We have **7197 iOS apps** in this data set, and the columns that seem interesting are: `'track_name'`, `'currency'`, `'price'`, `'rating_count_tot'`, `'rating_count_ver'`, and `'prime_genre'`. Not all column names are self-explanatory in this case, but details about each column can be found in the data set [documentation](https://www.kaggle.com/ramamet4/app-store-apple-data-set-10k-apps/home)"
   ]
  },
  {
   "cell_type": "code",
   "execution_count": 12,
   "id": "edc49693-eab1-4cea-9523-0ea7abcc5602",
   "metadata": {},
   "outputs": [
    {
     "name": "stdout",
     "output_type": "stream",
     "text": [
      "['Life Made WI-Fi Touchscreen Photo Frame', '1.9', '19', '3.0M', '1,000+', 'Free', '0', 'Everyone', '', '11-Feb-18', '1.0.19', '4.0 and up', '']\n",
      "\n",
      "\n",
      "['App', 'Category', 'Rating', 'Reviews', 'Size', 'Installs', 'Type', 'Price', 'Content Rating', 'Genres', 'Last Updated', 'Current Ver', 'Android Ver']\n",
      "\n",
      "\n",
      "['Photo Editor & Candy Camera & Grid & ScrapBook', 'ART_AND_DESIGN', '4.1', '159', '19M', '10,000+', 'Free', '0', 'Everyone', 'Art & Design', '7-Jan-18', '1.0.0', '4.0.3 and up']\n"
     ]
    }
   ],
   "source": [
    "print(android[10472])  # incorrect row\n",
    "print('\\n')\n",
    "print(android_header)  # header\n",
    "print('\\n')\n",
    "print(android[0])      # correct row"
   ]
  },
  {
   "cell_type": "markdown",
   "id": "bd29cf98-18ce-4ef8-a0ee-1952435d36f7",
   "metadata": {},
   "source": [
    "The row 10472 corresponds to the app *Life Made WI-Fi Touchscreen Photo Frame*, and we can see that the rating is 19. This is clearly off because the maximum rating for a Google Play app is 5 (this problem is caused by a missing value in the `'Category'` column). As a consequence, we'll delete this row."
   ]
  },
  {
   "cell_type": "code",
   "execution_count": 14,
   "id": "d660473d-d32a-46e1-9613-afb045f17ab2",
   "metadata": {},
   "outputs": [
    {
     "name": "stdout",
     "output_type": "stream",
     "text": [
      "10841\n",
      "10840\n"
     ]
    }
   ],
   "source": [
    "print(len(android))\n",
    "del android[10472]  # don't run this more than once\n",
    "print(len(android))"
   ]
  },
  {
   "cell_type": "markdown",
   "id": "aa656ad3-7632-4e6d-951a-dc13edfe6eb1",
   "metadata": {},
   "source": [
    "# Removing duplicate entries\n",
    "\n",
    "**Part One**\n",
    "\n",
    "If we explore the Google Play data set long enough, we'll find that some apps have more than one entry. For instance, the application `Instagram` has four entries:"
   ]
  },
  {
   "cell_type": "code",
   "execution_count": 16,
   "id": "9333b931-2fe4-4983-9bb4-17a474358cc5",
   "metadata": {},
   "outputs": [
    {
     "name": "stdout",
     "output_type": "stream",
     "text": [
      "['Instagram', 'SOCIAL', '4.5', '66577313', 'Varies with device', '1,000,000,000+', 'Free', '0', 'Teen', 'Social', '31-Jul-18', 'Varies with device', 'Varies with device']\n",
      "['Instagram', 'SOCIAL', '4.5', '66577446', 'Varies with device', '1,000,000,000+', 'Free', '0', 'Teen', 'Social', '31-Jul-18', 'Varies with device', 'Varies with device']\n",
      "['Instagram', 'SOCIAL', '4.5', '66577313', 'Varies with device', '1,000,000,000+', 'Free', '0', 'Teen', 'Social', '31-Jul-18', 'Varies with device', 'Varies with device']\n",
      "['Instagram', 'SOCIAL', '4.5', '66509917', 'Varies with device', '1,000,000,000+', 'Free', '0', 'Teen', 'Social', '31-Jul-18', 'Varies with device', 'Varies with device']\n"
     ]
    }
   ],
   "source": [
    "for app in android:\n",
    "    name = app[0]\n",
    "    if name == 'Instagram':\n",
    "        print(app)"
   ]
  },
  {
   "cell_type": "code",
   "execution_count": 17,
   "id": "ed01c300-bf41-4d0e-bf4c-1f72c23ede30",
   "metadata": {},
   "outputs": [
    {
     "name": "stdout",
     "output_type": "stream",
     "text": [
      "Number of duplicate apps: 1181\n",
      "\n",
      "\n",
      "Examples of duplicate apps: ['Quick PDF Scanner + OCR FREE', 'Box', 'Google My Business', 'ZOOM Cloud Meetings', 'join.me - Simple Meetings', 'Box', 'Zenefits', 'Google Ads', 'Google My Business', 'Slack', 'FreshBooks Classic', 'Insightly CRM', 'QuickBooks Accounting: Invoicing & Expenses', 'HipChat - Chat Built for Teams', 'Xero Accounting Software']\n"
     ]
    }
   ],
   "source": [
    "duplicate_apps = []\n",
    "unique_apps = []\n",
    "\n",
    "for app in android:\n",
    "    name = app[0]\n",
    "    if name in unique_apps:\n",
    "        duplicate_apps.append(name)\n",
    "    else:\n",
    "        unique_apps.append(name)\n",
    "    \n",
    "print('Number of duplicate apps:', len(duplicate_apps))\n",
    "print('\\n')\n",
    "print('Examples of duplicate apps:', duplicate_apps[:15])"
   ]
  },
  {
   "cell_type": "markdown",
   "id": "41510b43-98b3-4489-b9c9-63a04cb2f381",
   "metadata": {},
   "source": [
    "# **Data Cleaning Process**\n",
    "We don't want to count certain apps more than once when we analyze data, so we need to remove the duplicate entries and keep only one entry per app. One thing we could do is remove the duplicate rows randomly, but we could probably find a better way.\r\n",
    "\r\n",
    "If you examine the rows we printed two cells above for the Instagr m app, the main difference happens on the fourth position of each row, which corresponds to the number of reviews. The different numbers show that the data was collected at different times. We can use this to build a criterion for keeping rows. We won't remove rows randomly, but rather we'll keep the rows that have the highest number of reviews because the higher the number of reviews, the more reliable the ratings.\r\n",
    "\r\n",
    "To do that, we wil- l:\r\n",
    "\r\n",
    "Create a dictionary where each key is a unique app name, and the value is the highest number of reviews of tha- t app\r\n",
    "Use the dictionary to create a new data set, which will have only one entry per app (and we only select the apps with the highest number of re\n",
    "views)\r\n",
    "Part Two\r\n",
    "Let's start by building the dictionary."
   ]
  },
  {
   "cell_type": "code",
   "execution_count": 19,
   "id": "dae6716c-b1fb-412c-9075-432380325003",
   "metadata": {},
   "outputs": [],
   "source": [
    "reviews_max = {}  # Initializes an empty dictionary to store the maximum number of reviews for each app\n",
    "\n",
    "for app in android:  # Loops through each app in the android dataset\n",
    "    name = app[0]  # Extracts the app name (assuming it's the first element in each app list)\n",
    "    n_reviews = int(app[3])  # Converts the number of reviews (at index 3) to a float\n",
    "\n",
    "    if name in reviews_max and reviews_max[name] < n_reviews:  # If the app is already in the dictionary and the current number of reviews is greater than the stored value\n",
    "        reviews_max[name] = n_reviews  # Updates the dictionary with the larger number of reviews\n",
    "\n",
    "    elif name not in reviews_max:  # If the app is not already in the dictionary\n",
    "        reviews_max[name] = n_reviews  # Adds the app and its number of reviews to the dictionary"
   ]
  },
  {
   "cell_type": "code",
   "execution_count": 20,
   "id": "3784aef3-a4ee-4212-8a19-f890c06d75a8",
   "metadata": {},
   "outputs": [
    {
     "name": "stdout",
     "output_type": "stream",
     "text": [
      "Expected length: 9659\n",
      "Actual length: 9659\n"
     ]
    }
   ],
   "source": [
    "print('Expected length:', len(android) - 1181)\n",
    "print('Actual length:', len(reviews_max))"
   ]
  },
  {
   "cell_type": "code",
   "execution_count": 21,
   "id": "f6769a1d-186e-43c8-8f73-e7cdb5104207",
   "metadata": {},
   "outputs": [],
   "source": [
    "android_clean = [] # will store the cleaned list of apps where each app appears only once, specifically the version with the highest number of reviews.\n",
    "already_added = [] # keeps track of the app names that have already been added to `android_clean`, preventing duplicates.\n",
    "\n",
    "for app in android:\n",
    "    name = app[0]\n",
    "    n_reviews = int(app[3])\n",
    "    \n",
    "    if (reviews_max[name] == n_reviews) and (name not in already_added):\n",
    "        android_clean.append(app) # contains the entire row\n",
    "        already_added.append(name) # make sure this is inside the if block. contains only the name of the app in the android_clean row"
   ]
  },
  {
   "cell_type": "code",
   "execution_count": 22,
   "id": "2b3ff4b1-241d-4355-acb8-03c59e0b367f",
   "metadata": {},
   "outputs": [
    {
     "name": "stdout",
     "output_type": "stream",
     "text": [
      "['Photo Editor & Candy Camera & Grid & ScrapBook', 'ART_AND_DESIGN', '4.1', '159', '19M', '10,000+', 'Free', '0', 'Everyone', 'Art & Design', '7-Jan-18', '1.0.0', '4.0.3 and up']\n",
      "\n",
      "\n",
      "['U Launcher Lite â€“ FREE Live Cool Themes, Hide Apps', 'ART_AND_DESIGN', '4.7', '87510', '8.7M', '5,000,000+', 'Free', '0', 'Everyone', 'Art & Design', '1-Aug-18', '1.2.4', '4.0.3 and up']\n",
      "\n",
      "\n",
      "['Sketch - Draw & Paint', 'ART_AND_DESIGN', '4.5', '215644', '25M', '50,000,000+', 'Free', '0', 'Teen', 'Art & Design', '8-Jun-18', 'Varies with device', '4.2 and up']\n",
      "\n",
      "\n",
      "Number of rows: 9659\n",
      "Number of columns: 13\n"
     ]
    }
   ],
   "source": [
    "explore_data(android_clean, 0, 3, True)"
   ]
  },
  {
   "cell_type": "markdown",
   "id": "6218c314-f4bb-404d-94a6-89453af69edc",
   "metadata": {},
   "source": [
    "## Removing Non-English Apps\n",
    "**\n",
    "Part One**\n",
    "\n",
    "\r\n",
    "If you explore the data sets enough, you'll notice the names of some of the apps suggest they are not directed toward an English-speaking audience. Below, we see a couple of examples from both data sets:"
   ]
  },
  {
   "cell_type": "code",
   "execution_count": 24,
   "id": "a06fc762-26ef-42a5-9bdb-d4f37d6e4451",
   "metadata": {},
   "outputs": [
    {
     "name": "stdout",
     "output_type": "stream",
     "text": [
      "AliExpress Shopping App\n",
      "Idle Armies\n",
      "\n",
      "\n",
      "ä¸­å›½èªž AQãƒªã‚¹ãƒ‹ãƒ³ã‚°\n",
      "Ù„Ø¹Ø¨Ø© ØªÙ‚Ø¯Ø± ØªØ±Ø¨Ø­ DZ\n"
     ]
    }
   ],
   "source": [
    "print(ios[813][1])\n",
    "print(ios[6731][1])\n",
    "print('\\n')\n",
    "print(android_clean[4412][0])\n",
    "print(android_clean[7940][0])"
   ]
  },
  {
   "cell_type": "markdown",
   "id": "730beaf3-ea8c-49c5-8ba2-4805a6b36155",
   "metadata": {},
   "source": [
    "We're not interested in keeping these kind of apps, so we'll remove them. One way to go about this is to remove each app whose name contains a symbol that is not commonly used in English text — English text usually includes letters from the English alphabet, numbers composed of digits from 0 to 9, punctuation marks (., !, ?, ;, etc.), and other symbols (+, *, /, etc.).\r\n",
    "\r\n",
    "All these characters that are specific to English texts are encoded using th`e ASCII standa`rd. Eac`h ASCII charact`er has a corresponding number between 0 and 127 associated with it, and we can take advantage of that to build a function that checks an app name and tells us whether it contain`s non-ASCII characte`rs.\r\n",
    "\r\n",
    "We built this function below, and we use `the built-in o`rd() function to find out the corresponding encoding number of each character."
   ]
  },
  {
   "cell_type": "code",
   "execution_count": 26,
   "id": "fe9ce41f-4726-43aa-89e3-9f5f995fe157",
   "metadata": {},
   "outputs": [
    {
     "name": "stdout",
     "output_type": "stream",
     "text": [
      "True\n",
      "False\n"
     ]
    }
   ],
   "source": [
    "def is_english(string): # checks whether a given string consists only of English (ASCII) characters\n",
    "    \n",
    "    for character in string:\n",
    "        if ord(character) > 127:\n",
    "            return False\n",
    "    \n",
    "    return True\n",
    "\n",
    "print(is_english('Instagram'))\n",
    "print(is_english('爱奇艺PPS -《欢乐颂2》电视剧热播'))"
   ]
  },
  {
   "cell_type": "markdown",
   "id": "885df706-8e17-40a7-8a5e-a7d2ebc3bd63",
   "metadata": {},
   "source": [
    "The function seems to work fine, but some English app names use emojis or other symbols (™, — (em dash), – (en dash), etc.) that fall outside of the ASCII range. Because of this, we'll remove useful apps if we use the function in its current form."
   ]
  },
  {
   "cell_type": "code",
   "execution_count": 28,
   "id": "a787aaa1-3285-4878-81dd-072bdce740ad",
   "metadata": {},
   "outputs": [
    {
     "name": "stdout",
     "output_type": "stream",
     "text": [
      "False\n",
      "False\n",
      "\n",
      "\n",
      "8482\n",
      "128540\n"
     ]
    }
   ],
   "source": [
    "print(is_english('Docs To Go™ Free Office Suite'))\n",
    "print(is_english('Instachat 😜'))\n",
    "print('\\n')\n",
    "print(ord('™'))\n",
    "print(ord('😜'))"
   ]
  },
  {
   "cell_type": "markdown",
   "id": "69bf0aae-9bde-4553-82ed-18e723740b14",
   "metadata": {},
   "source": [
    "**Part Two**\n",
    "To minimize the impact of data loss, we'll only remove an app if its name has more than three non-ASCII characters:"
   ]
  },
  {
   "cell_type": "code",
   "execution_count": 30,
   "id": "7267b558-27fb-46fa-95d8-02a62149d10e",
   "metadata": {},
   "outputs": [
    {
     "name": "stdout",
     "output_type": "stream",
     "text": [
      "True\n",
      "True\n"
     ]
    }
   ],
   "source": [
    "def is_english(string):              # is_english() is used to save english apps\n",
    "    non_ascii = 0                    # A counter tracks the number of characters in the string that are outside the ASCII range\n",
    "    \n",
    "    for character in string:\n",
    "        if ord(character) > 127:\n",
    "            non_ascii += 1           # If a non-ASCII character is found, the non_ascii counter is incremented by 1.\n",
    "\n",
    "    if non_ascii > 3:\n",
    "        return False\n",
    "    else:\n",
    "        return True\n",
    "\n",
    "print(is_english('Docs To Go™ Free Office Suite'))\n",
    "print(is_english('Instachat 😜'))"
   ]
  },
  {
   "cell_type": "code",
   "execution_count": 31,
   "id": "db11414e-5665-40e3-bc76-07f2c678f15c",
   "metadata": {},
   "outputs": [
    {
     "name": "stdout",
     "output_type": "stream",
     "text": [
      "['Photo Editor & Candy Camera & Grid & ScrapBook', 'ART_AND_DESIGN', '4.1', '159', '19M', '10,000+', 'Free', '0', 'Everyone', 'Art & Design', '7-Jan-18', '1.0.0', '4.0.3 and up']\n",
      "\n",
      "\n",
      "['U Launcher Lite â€“ FREE Live Cool Themes, Hide Apps', 'ART_AND_DESIGN', '4.7', '87510', '8.7M', '5,000,000+', 'Free', '0', 'Everyone', 'Art & Design', '1-Aug-18', '1.2.4', '4.0.3 and up']\n",
      "\n",
      "\n",
      "['Sketch - Draw & Paint', 'ART_AND_DESIGN', '4.5', '215644', '25M', '50,000,000+', 'Free', '0', 'Teen', 'Art & Design', '8-Jun-18', 'Varies with device', '4.2 and up']\n",
      "\n",
      "\n",
      "Number of rows: 9500\n",
      "Number of columns: 13\n",
      "\n",
      "\n",
      "['281656475', 'PAC-MAN Premium', '100788224', 'USD', '3.99', '21292', '26', '4', '4.5', '6.3.5', '4+', 'Games', '38', '5', '10', '1']\n",
      "\n",
      "\n",
      "['281796108', 'Evernote - stay organized', '158578688', 'USD', '0', '161065', '26', '4', '3.5', '8.2.2', '4+', 'Productivity', '37', '5', '23', '1']\n",
      "\n",
      "\n",
      "['281940292', 'WeatherBug - Local Weather, Radar, Maps, Alerts', '100524032', 'USD', '0', '188583', '2822', '3.5', '4.5', '5.0.0', '4+', 'Weather', '37', '5', '3', '1']\n",
      "\n",
      "\n",
      "Number of rows: 6100\n",
      "Number of columns: 16\n"
     ]
    }
   ],
   "source": [
    "android_english = []\n",
    "ios_english = []\n",
    "\n",
    "for app in android_clean:\n",
    "    name = app[0]\n",
    "    if is_english(name):\n",
    "        android_english.append(app)\n",
    "        \n",
    "for app in ios:\n",
    "    name = app[1]\n",
    "    if is_english(name):\n",
    "        ios_english.append(app)\n",
    "        \n",
    "explore_data(android_english, 0, 3, True)\n",
    "print('\\n')\n",
    "explore_data(ios_english, 0, 3, True)"
   ]
  },
  {
   "cell_type": "markdown",
   "id": "c645894b-5f9f-460c-a2dc-a3887152591f",
   "metadata": {},
   "source": [
    "## Isolating the Free Apps\n",
    "\n",
    "As we mentioned in the introduction, we only build apps that are free to download and install, and our main source of revenue consists of in-app ads. Our data sets contain both free and non-free apps, and we'll need to isolate only the free apps for our analysis. Below, we isolate the free apps for both our data sets."
   ]
  },
  {
   "cell_type": "code",
   "execution_count": 33,
   "id": "ec1c57d9-6b02-4ce6-971f-6cff66d5fa06",
   "metadata": {},
   "outputs": [
    {
     "name": "stdout",
     "output_type": "stream",
     "text": [
      "No. of Android apps left will be 8760\n",
      "No. of ios apps left will be 3169\n"
     ]
    }
   ],
   "source": [
    "android_final = []\n",
    "ios_final = []\n",
    "\n",
    "for app in android_english:\n",
    "    price = app[7]\n",
    "    if price == '0':\n",
    "        android_final.append(app)\n",
    "\n",
    "for app in ios_english:\n",
    "    price = app[4]\n",
    "    if price == '0':\n",
    "        ios_final.append(app)\n",
    "\n",
    "print('No. of Android apps left will be', len(android_final))\n",
    "print('No. of ios apps left will be', len(ios_final))"
   ]
  },
  {
   "cell_type": "markdown",
   "id": "991a7fe9-1c95-4990-8739-e277fa129eb1",
   "metadata": {},
   "source": [
    "# Most Common Apps by Genre\r",
    "__\n",
    "Part On__e\r\n",
    "As we mentioned in the introduction, our aim is to determine the kinds of apps that are likely to attract more users because our revenue is highly influenced by the number of people using our apps.\r\n",
    "\r\n",
    "To minimize risks and overhead, our validation strategy for an app idea is comprised of three sp- s:\r\n",
    "\r\n",
    "Build a minimal Android version of the app, and add it to Google - Play.\r\n",
    "If the app has a good response from users, we then develop it fu- rther.\r\n",
    "If the app is profitable after six months, we also build an iOS version of the app and add it to the App\n",
    " Store.\r\n",
    "Because our end goal is to add the app on `both the `App S`tore and Go`ogle Play, we need to find app profiles that are successful on both markets. For instance, a profile that might work well for both markets mi`ght be a product`ivity app that make`s use of gam`ification.\r\n",
    "\r\n",
    "Let's begin the analysis by getting a sense of the most common genres for each market. For this, we'`ll build a freq`uency tab`le for the `prime_genre col`umn of th`e App Store data se`t, and` the `Genres a`nd Category colu`mns of the `Google Play __data set__.\r\n",
    "\r\n",
    "Part Two\r\n",
    "We'll build two functions we can use to analyze the frequ- ency tables:\r\n",
    "\r\n",
    "One function to generate frequency tables that s- how percentages\r\n",
    "Another function that we can use to display the percentages in a descending order"
   ]
  },
  {
   "cell_type": "code",
   "execution_count": 35,
   "id": "d93b874e-8e1e-43ea-a799-10e5d08df16e",
   "metadata": {},
   "outputs": [],
   "source": [
    "def freq_table(dataset, index):\n",
    "    table = {}\n",
    "    total = 0\n",
    "    \n",
    "    for row in dataset:\n",
    "        total += 1\n",
    "        value = row[index]\n",
    "        if value in table:\n",
    "            table[value] += 1\n",
    "        else:\n",
    "            table[value] = 1\n",
    "    \n",
    "    table_percentages = {}\n",
    "    for key in table:\n",
    "        percentage = (table[key] / total) * 100 # i.e the number of times it appears/total\n",
    "        table_percentages[key] = percentage \n",
    "    \n",
    "    return table_percentages\n",
    "\n",
    "\n",
    "def display_table(dataset, index):\n",
    "    table = freq_table(dataset, index)\n",
    "    table_display = []\n",
    "    for key in table:\n",
    "        key_val_as_tuple = (table[key], key) # i.e the percentage occurence, name of variable\n",
    "        table_display.append(key_val_as_tuple)\n",
    "        \n",
    "    table_sorted = sorted(table_display, reverse = True)\n",
    "    for entry in table_sorted:\n",
    "        print(entry[1], ':', entry[0])"
   ]
  },
  {
   "cell_type": "markdown",
   "id": "d485fe21-e32f-41f4-b42f-606fc1f4d343",
   "metadata": {},
   "source": [
    "__Part Three__\n",
    "\r\n",
    "We start by examining the frequency table for te h prime_gerene column of the App Store data set."
   ]
  },
  {
   "cell_type": "code",
   "execution_count": 37,
   "id": "2aee1b13-859f-45b6-8da1-fb5e119550ed",
   "metadata": {},
   "outputs": [
    {
     "name": "stdout",
     "output_type": "stream",
     "text": [
      "Games : 58.53581571473651\n",
      "Entertainment : 7.82581255916693\n",
      "Photo & Video : 5.0489113284947935\n",
      "Education : 3.72357210476491\n",
      "Social Networking : 3.2817923635216157\n",
      "Shopping : 2.5244556642473968\n",
      "Utilities : 2.398232881035027\n",
      "Sports : 2.1773430104133795\n",
      "Music : 2.0511202272010096\n",
      "Health & Fitness : 1.9880088355948247\n",
      "Productivity : 1.7040075733669928\n",
      "Lifestyle : 1.5462290943515304\n",
      "News : 1.3253392237298833\n",
      "Travel : 1.1360050489113285\n",
      "Finance : 1.1044493531082362\n",
      "Weather : 0.8520037866834964\n",
      "Food & Drink : 0.8204480908804039\n",
      "Reference : 0.5364468286525718\n",
      "Business : 0.5364468286525718\n",
      "Book : 0.3786683496371095\n",
      "Navigation : 0.18933417481855475\n",
      "Medical : 0.18933417481855475\n",
      "Catalogs : 0.12622278321236985\n"
     ]
    }
   ],
   "source": [
    "display_table(ios_final, 11) # from the function defined above"
   ]
  },
  {
   "cell_type": "code",
   "execution_count": 38,
   "id": "833d8641-03ef-42bb-851f-596c1f391c6f",
   "metadata": {},
   "outputs": [
    {
     "name": "stdout",
     "output_type": "stream",
     "text": [
      "['id', 'track_name', 'size_bytes', 'currency', 'price', 'rating_count_tot', 'rating_count_ver', 'user_rating', 'user_rating_ver', 'ver', 'cont_rating', 'prime_genre', 'sup_devices.num', 'ipadSc_urls.num', 'lang.num', 'vpp_lic']\n"
     ]
    }
   ],
   "source": [
    "print(ios_header)"
   ]
  },
  {
   "cell_type": "markdown",
   "id": "5c6e4538-b22b-4621-8a37-376e15ff9964",
   "metadata": {},
   "source": [
    "We can see that among the free English apps, more than a half (58.54%) are games. Entertainment apps are 8%, followed by photo and video apps, which are close are around 5%. Only 3.73% of the apps are designed for education, followed by social networking apps which amount for 3.28% of the apps in our data set.\n",
    "\n",
    "The general impression is th the part of `t App Stort containing free English aps) is dominated by apps that are designed for fun (games, entertainment, photo and video, social networking, sports, music, etc.), while apps with practical purposes (education, shopping, utilities, productivity, lifestyle, etc.) are more rare. However, the fact that fun apps are the most numerous doesn't also imply that they also have the greatest number of users — the demand might not be the same as the offer.\n",
    "\n",
    "Let's continue by examining `the Ge`nres `and Cate`gory columns of `the Google `Play data as they are the two columns which seem to be related"
   ]
  },
  {
   "cell_type": "code",
   "execution_count": 40,
   "id": "ca6c4cbd-b55d-4b29-9adc-291678caf989",
   "metadata": {},
   "outputs": [
    {
     "name": "stdout",
     "output_type": "stream",
     "text": [
      "FAMILY : 18.938356164383563\n",
      "GAME : 9.657534246575343\n",
      "TOOLS : 8.481735159817351\n",
      "BUSINESS : 4.646118721461187\n",
      "PRODUCTIVITY : 3.9383561643835616\n",
      "LIFESTYLE : 3.9155251141552516\n",
      "FINANCE : 3.721461187214612\n",
      "MEDICAL : 3.550228310502283\n",
      "SPORTS : 3.3333333333333335\n",
      "PERSONALIZATION : 3.287671232876712\n",
      "COMMUNICATION : 3.2534246575342465\n",
      "HEALTH_AND_FITNESS : 3.093607305936073\n",
      "PHOTOGRAPHY : 2.9794520547945202\n",
      "NEWS_AND_MAGAZINES : 2.808219178082192\n",
      "SOCIAL : 2.6484018264840183\n",
      "TRAVEL_AND_LOCAL : 2.3401826484018264\n",
      "SHOPPING : 2.2488584474885847\n",
      "BOOKS_AND_REFERENCE : 2.146118721461187\n",
      "DATING : 1.860730593607306\n",
      "VIDEO_PLAYERS : 1.8036529680365299\n",
      "MAPS_AND_NAVIGATION : 1.3812785388127853\n",
      "FOOD_AND_DRINK : 1.2328767123287672\n",
      "EDUCATION : 1.1757990867579908\n",
      "ENTERTAINMENT : 0.9589041095890412\n",
      "AUTO_AND_VEHICLES : 0.9246575342465754\n",
      "LIBRARIES_AND_DEMO : 0.9018264840182649\n",
      "WEATHER : 0.7876712328767124\n",
      "HOUSE_AND_HOME : 0.7876712328767124\n",
      "EVENTS : 0.7191780821917808\n",
      "ART_AND_DESIGN : 0.6506849315068494\n",
      "PARENTING : 0.6392694063926941\n",
      "BEAUTY : 0.6050228310502284\n",
      "COMICS : 0.5821917808219178\n"
     ]
    }
   ],
   "source": [
    "display_table(android_final, 1) # Category"
   ]
  },
  {
   "cell_type": "code",
   "execution_count": 41,
   "id": "7b2bb4f9-354d-49c6-b78e-066b54b03514",
   "metadata": {},
   "outputs": [
    {
     "name": "stdout",
     "output_type": "stream",
     "text": [
      "Tools : 8.470319634703197\n",
      "Entertainment : 6.084474885844749\n",
      "Education : 5.3881278538812785\n",
      "Business : 4.646118721461187\n",
      "Productivity : 3.9383561643835616\n",
      "Lifestyle : 3.904109589041096\n",
      "Finance : 3.721461187214612\n",
      "Medical : 3.550228310502283\n",
      "Sports : 3.4018264840182644\n",
      "Personalization : 3.287671232876712\n",
      "Communication : 3.2534246575342465\n",
      "Action : 3.105022831050228\n",
      "Health & Fitness : 3.093607305936073\n",
      "Photography : 2.9794520547945202\n",
      "News & Magazines : 2.808219178082192\n",
      "Social : 2.6484018264840183\n",
      "Travel & Local : 2.328767123287671\n",
      "Shopping : 2.2488584474885847\n",
      "Books & Reference : 2.146118721461187\n",
      "Simulation : 2.054794520547945\n",
      "Dating : 1.860730593607306\n",
      "Arcade : 1.82648401826484\n",
      "Video Players & Editors : 1.7808219178082192\n",
      "Casual : 1.7351598173515983\n",
      "Maps & Navigation : 1.3812785388127853\n",
      "Food & Drink : 1.2328767123287672\n",
      "Puzzle : 1.141552511415525\n",
      "Racing : 1.004566210045662\n",
      "Role Playing : 0.9474885844748858\n",
      "Strategy : 0.9246575342465754\n",
      "Auto & Vehicles : 0.9246575342465754\n",
      "Libraries & Demo : 0.9018264840182649\n",
      "Weather : 0.7876712328767124\n",
      "House & Home : 0.7876712328767124\n",
      "Events : 0.7191780821917808\n",
      "Adventure : 0.6621004566210046\n",
      "Beauty : 0.6050228310502284\n",
      "Art & Design : 0.6050228310502284\n",
      "Comics : 0.5707762557077625\n",
      "Parenting : 0.4908675799086758\n",
      "Card : 0.4452054794520548\n",
      "Casino : 0.410958904109589\n",
      "Trivia : 0.3995433789954338\n",
      "Educational;Education : 0.3995433789954338\n",
      "Board : 0.3881278538812785\n",
      "Educational : 0.3767123287671233\n",
      "Education;Education : 0.3424657534246575\n",
      "Word : 0.2511415525114155\n",
      "Casual;Pretend Play : 0.2397260273972603\n",
      "Music : 0.19406392694063926\n",
      "Puzzle;Brain Games : 0.17123287671232876\n",
      "Entertainment;Music & Video : 0.17123287671232876\n",
      "Racing;Action & Adventure : 0.14840182648401826\n",
      "Casual;Brain Games : 0.136986301369863\n",
      "Casual;Action & Adventure : 0.136986301369863\n",
      "Arcade;Action & Adventure : 0.12557077625570776\n",
      "Action;Action & Adventure : 0.10273972602739725\n",
      "Educational;Pretend Play : 0.091324200913242\n",
      "Simulation;Action & Adventure : 0.07990867579908677\n",
      "Parenting;Education : 0.07990867579908677\n",
      "Entertainment;Brain Games : 0.07990867579908677\n",
      "Casual;Creativity : 0.0684931506849315\n",
      "Art & Design;Creativity : 0.0684931506849315\n",
      "Parenting;Music & Video : 0.05707762557077625\n",
      "Educational;Brain Games : 0.05707762557077625\n",
      "Education;Pretend Play : 0.05707762557077625\n",
      "Board;Brain Games : 0.05707762557077625\n",
      "Role Playing;Pretend Play : 0.045662100456621\n",
      "Education;Creativity : 0.045662100456621\n",
      "Role Playing;Action & Adventure : 0.03424657534246575\n",
      "Puzzle;Action & Adventure : 0.03424657534246575\n",
      "Entertainment;Creativity : 0.03424657534246575\n",
      "Entertainment;Action & Adventure : 0.03424657534246575\n",
      "Educational;Creativity : 0.03424657534246575\n",
      "Educational;Action & Adventure : 0.03424657534246575\n",
      "Education;Music & Video : 0.03424657534246575\n",
      "Education;Brain Games : 0.03424657534246575\n",
      "Education;Action & Adventure : 0.03424657534246575\n",
      "Adventure;Action & Adventure : 0.03424657534246575\n",
      "Video Players & Editors;Music & Video : 0.0228310502283105\n",
      "Sports;Action & Adventure : 0.0228310502283105\n",
      "Simulation;Pretend Play : 0.0228310502283105\n",
      "Puzzle;Creativity : 0.0228310502283105\n",
      "Music;Music & Video : 0.0228310502283105\n",
      "Entertainment;Pretend Play : 0.0228310502283105\n",
      "Casual;Education : 0.0228310502283105\n",
      "Board;Action & Adventure : 0.0228310502283105\n",
      "Video Players & Editors;Creativity : 0.01141552511415525\n",
      "Trivia;Education : 0.01141552511415525\n",
      "Travel & Local;Action & Adventure : 0.01141552511415525\n",
      "Tools;Education : 0.01141552511415525\n",
      "Strategy;Education : 0.01141552511415525\n",
      "Strategy;Creativity : 0.01141552511415525\n",
      "Strategy;Action & Adventure : 0.01141552511415525\n",
      "Simulation;Education : 0.01141552511415525\n",
      "Role Playing;Brain Games : 0.01141552511415525\n",
      "Racing;Pretend Play : 0.01141552511415525\n",
      "Puzzle;Education : 0.01141552511415525\n",
      "Parenting;Brain Games : 0.01141552511415525\n",
      "Music & Audio;Music & Video : 0.01141552511415525\n",
      "Lifestyle;Pretend Play : 0.01141552511415525\n",
      "Lifestyle;Education : 0.01141552511415525\n",
      "Health & Fitness;Education : 0.01141552511415525\n",
      "Health & Fitness;Action & Adventure : 0.01141552511415525\n",
      "Entertainment;Education : 0.01141552511415525\n",
      "Communication;Creativity : 0.01141552511415525\n",
      "Comics;Creativity : 0.01141552511415525\n",
      "Card;Action & Adventure : 0.01141552511415525\n",
      "Books & Reference;Education : 0.01141552511415525\n",
      "Art & Design;Pretend Play : 0.01141552511415525\n",
      "Art & Design;Action & Adventure : 0.01141552511415525\n",
      "Arcade;Pretend Play : 0.01141552511415525\n",
      "Adventure;Education : 0.01141552511415525\n"
     ]
    }
   ],
   "source": [
    "display_table(android_final, -4) # genre"
   ]
  },
  {
   "cell_type": "markdown",
   "id": "afc1ed05-3e43-4d84-84a9-a20a83f0aecd",
   "metadata": {},
   "source": [
    "The difference between the `Genres` and the `Category` columns is not crystal clear, but one thing we can notice is that the `Genres` column is much more granular (it has more categories). We're only looking for the bigger picture at the moment, so we'll only work with the `Category` column moving forward.\n",
    "\n",
    "Up to this point, we found that the `App Store` is dominated by apps designed for fun, while `Google Play` shows a more balanced landscape of both practical and for-fun apps. Now we'd like to get an idea about the kind of apps that have most users."
   ]
  },
  {
   "cell_type": "markdown",
   "id": "8b79f516-bf1a-4cb1-beeb-f2a0d5db15df",
   "metadata": {},
   "source": [
    "## Most Popular Apps by Genre on the App Store\n",
    "\n",
    "One way to find out what `genres` are the most popular (have the most users) is to calculate the average number of installs for each app genre. For the `Google Play` data set, we can find this information in the Installs column, but for the `App Store` data set this information is missing. As a workaround, we'll take the total number of user ratings as a proxy, which we can find in the `rating_count_tot` app.\n",
    "\n",
    "Below, we calculate the average number of user ratings per app genre on the App Store:"
   ]
  },
  {
   "cell_type": "code",
   "execution_count": 44,
   "id": "f097c224-270b-4814-99e2-bc96e9e6e650",
   "metadata": {
    "scrolled": true
   },
   "outputs": [
    {
     "name": "stdout",
     "output_type": "stream",
     "text": [
      "Productivity : 21799.14814814815\n",
      "Weather : 54215.2962962963\n",
      "Shopping : 27816.2\n",
      "Reference : 79350.4705882353\n",
      "Finance : 32367.02857142857\n",
      "Music : 58205.03076923077\n",
      "Utilities : 19900.473684210527\n",
      "Travel : 31358.5\n",
      "Social Networking : 72916.54807692308\n",
      "Sports : 23008.898550724636\n",
      "Health & Fitness : 24037.634920634922\n",
      "Games : 22985.211320754715\n",
      "Food & Drink : 33333.92307692308\n",
      "News : 21750.071428571428\n",
      "Book : 46384.916666666664\n",
      "Photo & Video : 28441.54375\n",
      "Entertainment : 14364.774193548386\n",
      "Business : 7491.117647058823\n",
      "Lifestyle : 16739.34693877551\n",
      "Education : 7003.983050847458\n",
      "Navigation : 86090.33333333333\n",
      "Medical : 612.0\n",
      "Catalogs : 4004.0\n"
     ]
    }
   ],
   "source": [
    "genres_ios = freq_table(ios_final, -5)\n",
    "\n",
    "for genre in genres_ios:          # Outer loop: iterates over each genre in the genres_ios list\n",
    "    total = 0                     # Initializes the total ratings for the current genre\n",
    "    len_genre = 0                 # Initializes the count of apps in the current genre\n",
    "    for app in ios_final:         # Inner loop: iterates over each app in the ios_final dataset\n",
    "        genre_app = app[-5]       # Extracts the genre of the current app (from the -5th column)\n",
    "        if genre_app == genre:    # Checks if the current app's genre matches the current genre being processed\n",
    "            n_ratings = float(app[5])  # Extracts the number of ratings (from the 6th column) and converts it to a float\n",
    "            total += n_ratings          # Adds the app's ratings to the total ratings for the current genre\n",
    "            len_genre += 1              # Increments the count of apps in the current genre\n",
    "    avg_n_ratings = total / len_genre   # Calculates the average number of ratings for the current genre\n",
    "    print(genre, ':', avg_n_ratings)    # Prints the genre and its average number of ratings"
   ]
  },
  {
   "cell_type": "code",
   "execution_count": 45,
   "id": "a3c1f538-3136-4881-9bf9-a80f8d613afe",
   "metadata": {},
   "outputs": [
    {
     "name": "stdout",
     "output_type": "stream",
     "text": [
      "['id', 'track_name', 'size_bytes', 'currency', 'price', 'rating_count_tot', 'rating_count_ver', 'user_rating', 'user_rating_ver', 'ver', 'cont_rating', 'prime_genre', 'sup_devices.num', 'ipadSc_urls.num', 'lang.num', 'vpp_lic']\n"
     ]
    }
   ],
   "source": [
    "print(ios_header)"
   ]
  },
  {
   "cell_type": "code",
   "execution_count": 46,
   "id": "26c8a9f5-976b-47c7-a81b-797f08f977ac",
   "metadata": {},
   "outputs": [
    {
     "name": "stdout",
     "output_type": "stream",
     "text": [
      "Productivity : 21799.14814814815\n",
      "Weather : 54215.2962962963\n",
      "Shopping : 27816.2\n",
      "Reference : 79350.4705882353\n",
      "Finance : 32367.02857142857\n",
      "Music : 58205.03076923077\n",
      "Utilities : 19900.473684210527\n",
      "Travel : 31358.5\n",
      "Social Networking : 72916.54807692308\n",
      "Sports : 23008.898550724636\n",
      "Health & Fitness : 24037.634920634922\n",
      "Games : 22985.211320754715\n",
      "Food & Drink : 33333.92307692308\n",
      "News : 21750.071428571428\n",
      "Book : 46384.916666666664\n",
      "Photo & Video : 28441.54375\n",
      "Entertainment : 14364.774193548386\n",
      "Business : 7491.117647058823\n",
      "Lifestyle : 16739.34693877551\n",
      "Education : 7003.983050847458\n",
      "Navigation : 86090.33333333333\n",
      "Medical : 612.0\n",
      "Catalogs : 4004.0\n"
     ]
    }
   ],
   "source": [
    "genres_ios = freq_table(ios_final, -5)\n",
    "\n",
    "def ratings_table(dataset, index):\n",
    "    table = freq_table(dataset, index)\n",
    "    ratings_float = []\n",
    "    for key in table:\n",
    "        key_val_as_tuple = (table[key], key) # i.e the percentage occurence, name of variable\n",
    "        table_display.append(key_val_as_tuple)\n",
    "        \n",
    "    table_sorted = sorted(table_display, reverse = True)\n",
    "    for entry in table_sorted:\n",
    "        print(entry[1], ':', entry[0])\n",
    "\n",
    "for genre in genres_ios:          # Outer loop: iterates over each genre in the genres_ios list\n",
    "    total = 0                     # Initializes the total ratings for the current genre\n",
    "    len_genre = 0                 # Initializes the count of apps in the current genre\n",
    "    for app in ios_final:         # Inner loop: iterates over each app in the ios_final dataset\n",
    "        genre_app = app[-5]       # Extracts the genre of the current app (from the -5th column)\n",
    "        if genre_app == genre:    # Checks if the current app's genre matches the current genre being processed\n",
    "            n_ratings = float(app[5])  # Extracts the number of ratings (from the 6th column) and converts it to a float\n",
    "            total += n_ratings          # Adds the app's ratings to the total ratings for the current genre\n",
    "            len_genre += 1              # Increments the count of apps in the current genre\n",
    "    avg_n_ratings = total / len_genre   # Calculates the average number of ratings for the current genre\n",
    "    print(genre, ':', avg_n_ratings)    # Prints the genre and its average number of ratings\n",
    "    for ratings in genres_ios:\n",
    "        total = 0\n",
    "        len_ratings = 0\n",
    "        for app in ios_final:\n",
    "            ratings_app = app[5]\n",
    "            if ratings_app == ratings:\n",
    "                o_ratings = float(app[5])\n",
    "                total += o_ratings\n",
    "                len_ratings += 1"
   ]
  },
  {
   "cell_type": "markdown",
   "id": "330cb89a-189f-4d30-9f20-ded37174923d",
   "metadata": {},
   "source": [
    "On average, navigation apps have the highest number of user reviews, but this figure is heavily influenced by Waze and Google Maps, which have close to half a million user reviews together:"
   ]
  },
  {
   "cell_type": "code",
   "execution_count": 48,
   "id": "5e94cb12-5d95-426d-9b0f-fbe9bf7b01fa",
   "metadata": {},
   "outputs": [
    {
     "name": "stdout",
     "output_type": "stream",
     "text": [
      "Waze - GPS Navigation, Maps & Real-time Traffic : 345046\n",
      "GeocachingÂ® : 12811\n",
      "ImmobilienScout24: Real Estate Search in Germany : 187\n",
      "Railway Route Search : 5\n",
      "CoPilot GPS â€“ Car Navigation & Offline Maps : 3582\n",
      "Google Maps - Navigation & Transit : 154911\n"
     ]
    }
   ],
   "source": [
    "for app in ios_final:\n",
    "    if app[-5] == 'Navigation':\n",
    "        print(app[1], ':', app[5]) # print name and number of ratings"
   ]
  },
  {
   "cell_type": "markdown",
   "id": "9739a169-1aa4-4eb7-bfa4-0baa17627449",
   "metadata": {},
   "source": [
    "The same pattern applies to social networking apps, where the average number is heavily influenced by a few giants like Facebook, Pinterest, Skype, etc. Same applies to music apps, where a few big players like Pandora, Spotify, and Shazam heavily influence the average number.\n",
    "\n",
    "Our aim is to find popular genres, but navigation, social networking or music apps might seem more popular than they really are. The average number of ratings seem to be skewed by very few apps which have hundreds of thousands of user ratings, while the other apps may struggle to get past the 10,000 threshold. We could get a better picture by removing these extremely popular apps for each genre and then rework the averages, but we'll leave this level of detail for later.\n",
    "\n",
    "Reference apps have 74,942 user ratings on average, but it's actually the Bible and Dictionary.com which skew up the average rating:"
   ]
  },
  {
   "cell_type": "code",
   "execution_count": 50,
   "id": "67a9f6ad-3b24-4b59-a396-45549dd2c9ea",
   "metadata": {},
   "outputs": [
    {
     "name": "stdout",
     "output_type": "stream",
     "text": [
      "Bible : 985920\n",
      "Dictionary.com Dictionary & Thesaurus : 200047\n",
      "Dictionary.com Dictionary & Thesaurus for iPad : 54175\n",
      "Muslim Pro: Ramadan 2017 Prayer Times, Azan, Quran : 18418\n",
      "Merriam-Webster Dictionary : 16849\n",
      "Google Translate : 26786\n",
      "Night Sky : 12122\n",
      "WWDC : 762\n",
      "Jishokun-Japanese English Dictionary & Translator : 0\n",
      "VPN Express : 14\n",
      "New Furniture Mods - Pocket Wiki & Game Tools for Minecraft PC Edition : 17588\n",
      "LUCKY BLOCK MOD â„¢ for Minecraft PC Edition - The Best Pocket Wiki & Mods Installer Tools : 4693\n",
      "Guides for PokÃ©mon GO - Pokemon GO News and Cheats : 826\n",
      "Horror Maps for Minecraft PE - Download The Scariest Maps for Minecraft Pocket Edition (MCPE) Free : 718\n",
      "City Maps for Minecraft PE - The Best Maps for Minecraft Pocket Edition (MCPE) : 8535\n",
      "GUNS MODS for Minecraft PC Edition - Mods Tools : 1497\n",
      "Real Bike Traffic Rider Virtual Reality Glasses : 8\n"
     ]
    }
   ],
   "source": [
    "for app in ios_final:\n",
    "    if app[-5] == 'Reference':\n",
    "        print(app[1], ':', app[5]) # print name and number of ratings"
   ]
  },
  {
   "cell_type": "markdown",
   "id": "51c0064d-9e63-4d27-b59a-353781e0cc17",
   "metadata": {},
   "source": [
    "However, this niche seems to show some potential. One thing we could do is take another popular book and turn it into an app where we could add different features besides the raw version of the book. This might include daily quotes from the book, an audio version of the book, quizzes about the book, etc. On top of that, we could also embed a dictionary within the app, so users don't need to exit our app to look up words in an external app.\n",
    "\n",
    "This idea seems to fit well with the fact that the App Store is dominated by for-fun apps. This suggests the market might be a bit saturated with for-fun apps, which means a practical app might have more of a chance to stand out among the huge number of apps on the App Store.\n",
    "\n",
    "Other genres that seem popular include weather, book, food and drink, or finance. The book genre seem to overlap a bit with the app idea we described above, but the other genres don't seem too interesting to us:\n",
    "\n",
    "- Weather apps — people generally don't spend too much time in-app, and the chances of making profit from in-app adds are low. Also, getting reliable live weather data may require us to connect our apps to non-free APIs.\n",
    "\n",
    "- Food and drink — examples here include Starbucks, Dunkin' Donuts, McDonald's, etc. So making a popular food and drink app requires actual cooking and a delivery service, which is outside the scope of our company.\n",
    "\n",
    "- Finance apps — these apps involve banking, paying bills, money transfer, etc. Building a finance app requires domain knowledge, and we don't want to hire a finance expert just to build an app."
   ]
  },
  {
   "cell_type": "markdown",
   "id": "195c4c00-e2b6-4ede-a0cb-3f9bbae373b0",
   "metadata": {},
   "source": [
    "## Most Popular Apps by Genre on Google Play\n",
    "\n",
    "For the Google Play market, we have data about the number of installs, so we should be able to get a clearer picture about genre popularity. However, the install numbers don't seem precise enough — we can see that most values are open-ended (100+, 1,000+, 5,000+, etc.):"
   ]
  },
  {
   "cell_type": "code",
   "execution_count": 53,
   "id": "58f22af0-f718-4fc5-bc24-2f4e3a6612c7",
   "metadata": {},
   "outputs": [
    {
     "name": "stdout",
     "output_type": "stream",
     "text": [
      "['App', 'Category', 'Rating', 'Reviews', 'Size', 'Installs', 'Type', 'Price', 'Content Rating', 'Genres', 'Last Updated', 'Current Ver', 'Android Ver']\n"
     ]
    }
   ],
   "source": [
    "print(android_header)"
   ]
  },
  {
   "cell_type": "code",
   "execution_count": 54,
   "id": "62ea6f92-93a1-473f-85cf-56a2a10f9e7d",
   "metadata": {},
   "outputs": [
    {
     "name": "stdout",
     "output_type": "stream",
     "text": [
      "1,000,000+ : 15.74200913242009\n",
      "100,000+ : 11.518264840182649\n",
      "10,000,000+ : 10.60502283105023\n",
      "10,000+ : 10.205479452054794\n",
      "1,000+ : 8.367579908675799\n",
      "100+ : 6.952054794520548\n",
      "5,000,000+ : 6.872146118721462\n",
      "500,000+ : 5.5479452054794525\n",
      "50,000+ : 4.7716894977168955\n",
      "5,000+ : 4.486301369863014\n",
      "10+ : 3.515981735159817\n",
      "500+ : 3.2077625570776256\n",
      "50,000,000+ : 2.28310502283105\n",
      "100,000,000+ : 2.134703196347032\n",
      "50+ : 1.9292237442922375\n",
      "5+ : 0.7876712328767124\n",
      "1+ : 0.5136986301369862\n",
      "500,000,000+ : 0.273972602739726\n",
      "1,000,000,000+ : 0.228310502283105\n",
      "0+ : 0.045662100456621\n",
      "0 : 0.01141552511415525\n"
     ]
    }
   ],
   "source": [
    "display_table(android_final, 5)"
   ]
  },
  {
   "cell_type": "markdown",
   "id": "7a9e947e-a877-4e01-bbe8-406dcc2668b5",
   "metadata": {},
   "source": [
    "One problem with this data is that is not precise. For instance, we don't know whether an app with 100,000+ installs has 100,000 installs, 200,000, or 350,000. However, we don't need very precise data for our purposes — we only want to get an idea which app genres attract the most users, and we don't need perfect precision with respect to the number of users.\n",
    "\n",
    "We're going to leave the numbers as they are, which means that we'll consider that an app with 100,000+ installs has 100,000 installs, and an app with 1,000,000+ installs has 1,000,000 installs, and so on.\n",
    "\n",
    "To perform computations, however, we'll need to convert each install number to float — this means that we need to remove the commas and the plus characters, otherwise the conversion will fail and raise an error. We'll do this directly in the loop below, where we also compute the average number of installs for each genre (category)."
   ]
  },
  {
   "cell_type": "code",
   "execution_count": 56,
   "id": "cb028f53-1c3f-4ae9-b04f-9f0ea24f9270",
   "metadata": {},
   "outputs": [
    {
     "name": "stdout",
     "output_type": "stream",
     "text": [
      "ART_AND_DESIGN : 1986335.0877192982\n",
      "AUTO_AND_VEHICLES : 654074.8271604938\n",
      "BEAUTY : 513151.88679245283\n",
      "BOOKS_AND_REFERENCE : 8329168.936170213\n",
      "BUSINESS : 1712290.1474201474\n",
      "COMICS : 859042.1568627451\n",
      "COMMUNICATION : 38550548.03859649\n",
      "DATING : 861409.5521472392\n",
      "EDUCATION : 1833495.145631068\n",
      "ENTERTAINMENT : 11767380.952380951\n",
      "EVENTS : 253542.22222222222\n",
      "FINANCE : 1365500.4049079753\n",
      "FOOD_AND_DRINK : 1951283.8055555555\n",
      "HEALTH_AND_FITNESS : 4219697.055350553\n",
      "HOUSE_AND_HOME : 1385541.463768116\n",
      "LIBRARIES_AND_DEMO : 649314.0506329114\n",
      "LIFESTYLE : 1447458.976676385\n",
      "GAME : 15571586.690307328\n",
      "FAMILY : 3716053.755274262\n",
      "MEDICAL : 121161.87781350482\n",
      "SOCIAL : 23628689.23275862\n",
      "SHOPPING : 7103190.78680203\n",
      "PHOTOGRAPHY : 17840110.40229885\n",
      "SPORTS : 3750580.6438356163\n",
      "TRAVEL_AND_LOCAL : 14120454.07804878\n",
      "TOOLS : 10902378.834454913\n",
      "PERSONALIZATION : 5240358.986111111\n",
      "PRODUCTIVITY : 16787331.344927534\n",
      "PARENTING : 552875.1785714285\n",
      "WEATHER : 5212877.101449275\n",
      "VIDEO_PLAYERS : 24878048.860759493\n",
      "NEWS_AND_MAGAZINES : 9626407.357723577\n",
      "MAPS_AND_NAVIGATION : 4115374.214876033\n"
     ]
    }
   ],
   "source": [
    "categories_android = freq_table(android_final, 1)\n",
    "\n",
    "for category in categories_android:\n",
    "    total = 0\n",
    "    len_category = 0\n",
    "    for app in android_final:\n",
    "        category_app = app[1]\n",
    "        if category_app == category:            \n",
    "            n_installs = app[5]\n",
    "            n_installs = n_installs.replace(',', '') # this replaces the ',' with nothing\n",
    "            n_installs = n_installs.replace('+', '') # this replaces the '+' with nothing\n",
    "            total += float(n_installs)\n",
    "            len_category += 1\n",
    "    avg_n_installs = total / len_category\n",
    "    print(category, ':', avg_n_installs)"
   ]
  },
  {
   "cell_type": "markdown",
   "id": "ccce99f5-73f7-4632-ad71-37dd9f5021e0",
   "metadata": {},
   "source": [
    "On average, communication apps have the most installs: 38,456,119. This number is heavily skewed up by a few apps that have over one billion installs (WhatsApp, Facebook Messenger, Skype, Google Chrome, Gmail, and Hangouts), and a few others with over 100 and 500 million installs:"
   ]
  },
  {
   "cell_type": "code",
   "execution_count": 58,
   "id": "dbca35d3-c110-45b2-9ed8-c8c2914bcc4e",
   "metadata": {},
   "outputs": [
    {
     "name": "stdout",
     "output_type": "stream",
     "text": [
      "WhatsApp Messenger : 1,000,000,000+\n",
      "imo beta free calls and text : 100,000,000+\n",
      "Android Messages : 100,000,000+\n",
      "Google Duo - High Quality Video Calls : 500,000,000+\n",
      "Messenger â€“ Text and Video Chat for Free : 1,000,000,000+\n",
      "imo free video calls and chat : 500,000,000+\n",
      "Skype - free IM & video calls : 1,000,000,000+\n",
      "Who : 100,000,000+\n",
      "GO SMS Pro - Messenger, Free Themes, Emoji : 100,000,000+\n",
      "LINE: Free Calls & Messages : 500,000,000+\n",
      "Google Chrome: Fast & Secure : 1,000,000,000+\n",
      "Firefox Browser fast & private : 100,000,000+\n",
      "UC Browser - Fast Download Private & Secure : 500,000,000+\n",
      "Gmail : 1,000,000,000+\n",
      "Hangouts : 1,000,000,000+\n",
      "Messenger Lite: Free Calls & Messages : 100,000,000+\n",
      "Kik : 100,000,000+\n",
      "KakaoTalk: Free Calls & Text : 100,000,000+\n",
      "Opera Mini - fast web browser : 100,000,000+\n",
      "Opera Browser: Fast and Secure : 100,000,000+\n",
      "Telegram : 100,000,000+\n",
      "Truecaller: Caller ID, SMS spam blocking & Dialer : 100,000,000+\n",
      "UC Browser Mini -Tiny Fast Private & Secure : 100,000,000+\n",
      "Viber Messenger : 500,000,000+\n",
      "WeChat : 100,000,000+\n",
      "Yahoo Mail â€“ Stay Organized : 100,000,000+\n",
      "BBM - Free Calls & Messages : 100,000,000+\n"
     ]
    }
   ],
   "source": [
    "for app in android_final:\n",
    "    if app[1] == 'COMMUNICATION' and (app[5] == '1,000,000,000+'\n",
    "                                      or app[5] == '500,000,000+'\n",
    "                                      or app[5] == '100,000,000+'):\n",
    "        print(app[0], ':', app[5])"
   ]
  },
  {
   "cell_type": "markdown",
   "id": "7e11fa3c-4bf6-4a3c-ac09-664d491c74e3",
   "metadata": {},
   "source": [
    "If we removed all the communication apps that have over 100 million installs, the average would be reduced roughly ten times:"
   ]
  },
  {
   "cell_type": "code",
   "execution_count": 60,
   "id": "f8d6226e-b8e7-4066-831f-45b44e111ec1",
   "metadata": {},
   "outputs": [
    {
     "data": {
      "text/plain": [
       "3437620.895348837"
      ]
     },
     "execution_count": 60,
     "metadata": {},
     "output_type": "execute_result"
    }
   ],
   "source": [
    "under_100_m = []\n",
    "\n",
    "for app in android_final:\n",
    "    n_installs = app[5]\n",
    "    n_installs = n_installs.replace(',', '')\n",
    "    n_installs = n_installs.replace('+', '')\n",
    "    if (app[1] == 'COMMUNICATION') and (float(n_installs) < 100000000):\n",
    "        under_100_m.append(float(n_installs))\n",
    "        \n",
    "sum(under_100_m) / len(under_100_m) # to get the average number of downloads for apps with less that 100m installs"
   ]
  },
  {
   "cell_type": "markdown",
   "id": "a4bb1ee1-f274-49f8-9dc5-fa997954efbc",
   "metadata": {},
   "source": [
    "We see the same pattern for the video players category, which is the runner-up with 24,727,872 installs. The market is dominated by apps like Youtube, Google Play Movies & TV, or MX Player. The pattern is repeated for social apps (where we have giants like Facebook, Instagram, Google+, etc.), photography apps (Google Photos and other popular photo editors), or productivity apps (Microsoft Word, Dropbox, Google Calendar, Evernote, etc.).\n",
    "\n",
    "Again, the main concern is that these app genres might seem more popular than they really are. Moreover, these niches seem to be dominated by a few giants who are hard to compete against.\n",
    "\n",
    "The game genre seems pretty popular, but previously we found out this part of the market seems a bit saturated, so we'd like to come up with a different app recommendation if possible.\n",
    "\n",
    "The books and reference genre looks fairly popular as well, with an average number of installs of 8,767,811. It's interesting to explore this in more depth, since we found this genre has some potential to work well on the App Store, and our aim is to recommend an app genre that shows potential for being profitable on both the App Store and Google Play.\n",
    "\n",
    "Let's take a look at some of the apps from this genre and their number of installs:"
   ]
  },
  {
   "cell_type": "code",
   "execution_count": 62,
   "id": "2bc3e486-7e46-4d3b-a28f-96a13de2418e",
   "metadata": {},
   "outputs": [
    {
     "name": "stdout",
     "output_type": "stream",
     "text": [
      "E-Book Read - Read Book for free : 50,000+\n",
      "Download free book with green book : 100,000+\n",
      "Wikipedia : 10,000,000+\n",
      "Cool Reader : 10,000,000+\n",
      "Free Panda Radio Music : 100,000+\n",
      "Book store : 1,000,000+\n",
      "FBReader: Favorite Book Reader : 10,000,000+\n",
      "English Grammar Complete Handbook : 500,000+\n",
      "Free Books - Spirit Fanfiction and Stories : 1,000,000+\n",
      "Google Play Books : 1,000,000,000+\n",
      "AlReader -any text book reader : 5,000,000+\n",
      "Offline English Dictionary : 100,000+\n",
      "Offline: English to Tagalog Dictionary : 500,000+\n",
      "FamilySearch Tree : 1,000,000+\n",
      "Cloud of Books : 1,000,000+\n",
      "Recipes of Prophetic Medicine for free : 500,000+\n",
      "ReadEra â€“ free ebook reader : 1,000,000+\n",
      "Anonymous caller detection : 10,000+\n",
      "Ebook Reader : 5,000,000+\n",
      "Litnet - E-books : 100,000+\n",
      "Read books online : 5,000,000+\n",
      "English to Urdu Dictionary : 500,000+\n",
      "eBoox: book reader fb2 epub zip : 1,000,000+\n",
      "English Persian Dictionary : 500,000+\n",
      "Flybook : 500,000+\n",
      "All Maths Formulas : 1,000,000+\n",
      "Ancestry : 5,000,000+\n",
      "HTC Help : 10,000,000+\n",
      "English translation from Bengali : 100,000+\n",
      "Pdf Book Download - Read Pdf Book : 100,000+\n",
      "Free Book Reader : 100,000+\n",
      "eBoox new: Reader for fb2 epub zip books : 50,000+\n",
      "Only 30 days in English, the guideline is guaranteed : 500,000+\n",
      "Moon+ Reader : 10,000,000+\n",
      "SH-02J Owner's Manual (Android 8.0) : 50,000+\n",
      "English-Myanmar Dictionary : 1,000,000+\n",
      "Golden Dictionary (EN-AR) : 1,000,000+\n",
      "All Language Translator Free : 1,000,000+\n",
      "Azpen eReader : 500,000+\n",
      "URBANO V 02 instruction manual : 100,000+\n",
      "Bible : 100,000,000+\n",
      "C Programs and Reference : 50,000+\n",
      "C Offline Tutorial : 1,000+\n",
      "C Programs Handbook : 50,000+\n",
      "Amazon Kindle : 100,000,000+\n",
      "Aab e Hayat Full Novel : 100,000+\n",
      "Aldiko Book Reader : 10,000,000+\n",
      "Google I/O 2018 : 500,000+\n",
      "R Language Reference Guide : 10,000+\n",
      "Learn R Programming Full : 5,000+\n",
      "R Programing Offline Tutorial : 1,000+\n",
      "Guide for R Programming : 5+\n",
      "Learn R Programming : 10+\n",
      "R Quick Reference Big Data : 1,000+\n",
      "V Made : 100,000+\n",
      "Dictionary - WordWeb : 5,000,000+\n",
      "Guide (for X-MEN) : 100,000+\n",
      "AC Air condition Troubleshoot,Repair,Maintenance : 5,000+\n",
      "AE Bulletins : 1,000+\n",
      "Ae Allah na Dai (Rasa) : 10,000+\n",
      "50000 Free eBooks & Free AudioBooks : 5,000,000+\n",
      "Ag PhD Field Guide : 10,000+\n",
      "Ag PhD Deficiencies : 10,000+\n",
      "Ag PhD Planting Population Calculator : 1,000+\n",
      "Ag PhD Soybean Diseases : 1,000+\n",
      "Fertilizer Removal By Crop : 50,000+\n",
      "A-J Media Vault : 50+\n",
      "Al-Quran (Free) : 10,000,000+\n",
      "Al Quran (Tafsir & by Word) : 500,000+\n",
      "Al Quran Indonesia : 10,000,000+\n",
      "Al'Quran Bahasa Indonesia : 10,000,000+\n",
      "Al Quran Al karim : 1,000,000+\n",
      "Al-Muhaffiz : 50,000+\n",
      "Al Quran : EAlim - Translations & MP3 Offline : 5,000,000+\n",
      "Al-Quran 30 Juz free copies : 500,000+\n",
      "Koran Read &MP3 30 Juz Offline : 1,000,000+\n",
      "Hafizi Quran 15 lines per page : 1,000,000+\n",
      "Quran for Android : 10,000,000+\n",
      "Surah Al-Waqiah : 100,000+\n",
      "Hisnul Al Muslim - Hisn Invocations & Adhkaar : 100,000+\n",
      "Satellite AR : 1,000,000+\n",
      "Audiobooks from Audible : 100,000,000+\n",
      "Kinot & Eichah for Tisha B'Av : 10,000+\n",
      "AW Tozer Devotionals - Daily : 5,000+\n",
      "Tozer Devotional -Series 1 : 1,000+\n",
      "The Pursuit of God : 1,000+\n",
      "AY Sing : 5,000+\n",
      "Ay Hasnain k Nana Milad Naat : 10,000+\n",
      "Ay Mohabbat Teri Khatir Novel : 10,000+\n",
      "Arizona Statutes, ARS (AZ Law) : 1,000+\n",
      "Oxford A-Z of English Usage : 1,000,000+\n",
      "BD Fishpedia : 1,000+\n",
      "BD All Sim Offer : 10,000+\n",
      "Youboox - Livres, BD et magazines : 500,000+\n",
      "B&H Kids AR : 10,000+\n",
      "B y H NiÃ±os ES : 5,000+\n",
      "Dictionary.com: Find Definitions for English Words : 10,000,000+\n",
      "English Dictionary - Offline : 10,000,000+\n",
      "Bible KJV : 5,000,000+\n",
      "Borneo Bible, BM Bible : 10,000+\n",
      "MOD Black for BM : 100+\n",
      "BM Box : 1,000+\n",
      "Anime Mod for BM : 100+\n",
      "NOOK: Read eBooks & Magazines : 10,000,000+\n",
      "NOOK Audiobooks : 500,000+\n",
      "NOOK App for NOOK Devices : 500,000+\n",
      "Browsery by Barnes & Noble : 5,000+\n",
      "bp e-store : 1,000+\n",
      "Brilliant Quotes: Life, Love, Family & Motivation : 1,000,000+\n",
      "BR Ambedkar Biography & Quotes : 10,000+\n",
      "BU Alsace : 100+\n",
      "Catholic La Bu Zo Kam : 500+\n",
      "Khrifa Hla Bu (Solfa) : 10+\n",
      "Kristian Hla Bu : 10,000+\n",
      "SA HLA BU : 1,000+\n",
      "Learn SAP BW : 500+\n",
      "Learn SAP BW on HANA : 500+\n",
      "CA Laws 2018 (California Laws and Codes) : 5,000+\n",
      "Bootable Methods(USB-CD-DVD) : 10,000+\n",
      "cloudLibrary : 100,000+\n",
      "SDA Collegiate Quarterly : 500+\n",
      "Sabbath School : 100,000+\n",
      "Cypress College Library : 100+\n",
      "Stats Royale for Clash Royale : 1,000,000+\n",
      "GATE 21 years CS Papers(2011-2018 Solved) : 50+\n",
      "Learn CT Scan Of Head : 5,000+\n",
      "Easy Cv maker 2018 : 10,000+\n",
      "How to Write CV : 100,000+\n",
      "CW Nuclear : 1,000+\n",
      "CY Spray nozzle : 10+\n",
      "BibleRead En Cy Zh Yue : 5+\n",
      "CZ-Help : 5+\n",
      "Guide for DB Xenoverse : 10,000+\n",
      "Guide for DB Xenoverse 2 : 10,000+\n",
      "Guide for IMS DB : 10+\n",
      "DC HSEMA : 5,000+\n",
      "DC Public Library : 1,000+\n",
      "Painting Lulu DC Super Friends : 1,000+\n",
      "Dictionary : 10,000,000+\n",
      "Fix Error Google Playstore : 1,000+\n",
      "D. H. Lawrence Poems FREE : 1,000+\n",
      "Bilingual Dictionary Audio App : 5,000+\n",
      "DM Screen : 10,000+\n",
      "wikiHow: how to do anything : 1,000,000+\n",
      "Dr. Doug's Tips : 1,000+\n",
      "Bible du Semeur-BDS (French) : 50,000+\n",
      "La citadelle du musulman : 50,000+\n",
      "DV 2019 Entry Guide : 10,000+\n",
      "DV 2019 - EDV Photo & Form : 50,000+\n",
      "DV 2018 Winners Guide : 1,000+\n",
      "EB Annual Meetings : 1,000+\n",
      "EC - AP & Telangana : 5,000+\n",
      "TN Patta Citta & EC : 10,000+\n",
      "AP Stamps and Registration : 10,000+\n",
      "CompactiMa EC pH Calibration : 100+\n",
      "EGW Writings 2 : 100,000+\n",
      "EGW Writings : 1,000,000+\n",
      "Bible with EGW Comments : 100,000+\n",
      "My Little Pony AR Guide : 1,000,000+\n",
      "SDA Sabbath School Quarterly : 500,000+\n",
      "Duaa Ek Ibaadat : 5,000+\n",
      "Spanish English Translator : 10,000,000+\n",
      "Dictionary - Merriam-Webster : 10,000,000+\n",
      "JW Library : 10,000,000+\n",
      "Oxford Dictionary of English : Free : 10,000,000+\n",
      "English Hindi Dictionary : 10,000,000+\n",
      "English to Hindi Dictionary : 5,000,000+\n",
      "EP Research Service : 1,000+\n",
      "Hymnes et Louanges : 100,000+\n",
      "EU Charter : 1,000+\n",
      "EU Data Protection : 1,000+\n",
      "EU IP Codes : 100+\n",
      "EW PDF : 5+\n",
      "BakaReader EX : 100,000+\n",
      "EZ Quran : 50,000+\n",
      "FA Part 1 & 2 Past Papers Solved Free â€“ Offline : 5,000+\n",
      "La Fe de Jesus : 1,000+\n",
      "La Fe de JesÃºs : 500+\n",
      "Le Fe de Jesus : 500+\n",
      "Florida - Pocket Brainbook : 1,000+\n",
      "Florida Statutes (FL Code) : 1,000+\n",
      "English To Shona Dictionary : 10,000+\n",
      "Greek Bible FP (Audio) : 1,000+\n",
      "Golden Dictionary (FR-AR) : 500,000+\n",
      "Fanfic-FR : 5,000+\n",
      "Bulgarian French Dictionary Fr : 10,000+\n",
      "Chemin (fr) : 1,000+\n",
      "The SCP Foundation DB fr nn5n : 1,000+\n"
     ]
    }
   ],
   "source": [
    "for app in android_final:\n",
    "    if app[1] == 'BOOKS_AND_REFERENCE':\n",
    "        print(app[0], ':', app[5])"
   ]
  },
  {
   "cell_type": "markdown",
   "id": "1a5f6a0e-d216-47d2-911b-3d65e58409b7",
   "metadata": {},
   "source": [
    "The book and reference genre includes a variety of apps: software for processing and reading ebooks, various collections of libraries, dictionaries, tutorials on programming or languages, etc. It seems there's still a small number of extremely popular apps that skew the average:"
   ]
  },
  {
   "cell_type": "code",
   "execution_count": 64,
   "id": "c872497d-3163-43cc-aa11-2e25bcdbf4a5",
   "metadata": {},
   "outputs": [
    {
     "name": "stdout",
     "output_type": "stream",
     "text": [
      "Google Play Books : 1,000,000,000+\n",
      "Bible : 100,000,000+\n",
      "Amazon Kindle : 100,000,000+\n",
      "Audiobooks from Audible : 100,000,000+\n"
     ]
    }
   ],
   "source": [
    "for app in android_final:\n",
    "    if app[1] == 'BOOKS_AND_REFERENCE' and (app[5] == '1,000,000,000+'\n",
    "                                      or app[5] == '500,000,000+'\n",
    "                                      or app[5] == '100,000,000+'):\n",
    "       print(app[0], ':', app[5])"
   ]
  },
  {
   "cell_type": "markdown",
   "id": "52f01660-6159-45f0-b97d-334bc199d5c3",
   "metadata": {},
   "source": [
    "However, it looks like there are only a few very popular apps, so this market still shows potential. Let's try to get some app ideas based on the kind of apps that are somewhere in the middle in terms of popularity (between 1,000,000 and 100,000,000 downloads):"
   ]
  },
  {
   "cell_type": "code",
   "execution_count": 66,
   "id": "ca17f832-4568-41ed-a74a-4a64317c5f45",
   "metadata": {},
   "outputs": [
    {
     "name": "stdout",
     "output_type": "stream",
     "text": [
      "Wikipedia : 10,000,000+\n",
      "Cool Reader : 10,000,000+\n",
      "Book store : 1,000,000+\n",
      "FBReader: Favorite Book Reader : 10,000,000+\n",
      "Free Books - Spirit Fanfiction and Stories : 1,000,000+\n",
      "AlReader -any text book reader : 5,000,000+\n",
      "FamilySearch Tree : 1,000,000+\n",
      "Cloud of Books : 1,000,000+\n",
      "ReadEra â€“ free ebook reader : 1,000,000+\n",
      "Ebook Reader : 5,000,000+\n",
      "Read books online : 5,000,000+\n",
      "eBoox: book reader fb2 epub zip : 1,000,000+\n",
      "All Maths Formulas : 1,000,000+\n",
      "Ancestry : 5,000,000+\n",
      "HTC Help : 10,000,000+\n",
      "Moon+ Reader : 10,000,000+\n",
      "English-Myanmar Dictionary : 1,000,000+\n",
      "Golden Dictionary (EN-AR) : 1,000,000+\n",
      "All Language Translator Free : 1,000,000+\n",
      "Aldiko Book Reader : 10,000,000+\n",
      "Dictionary - WordWeb : 5,000,000+\n",
      "50000 Free eBooks & Free AudioBooks : 5,000,000+\n",
      "Al-Quran (Free) : 10,000,000+\n",
      "Al Quran Indonesia : 10,000,000+\n",
      "Al'Quran Bahasa Indonesia : 10,000,000+\n",
      "Al Quran Al karim : 1,000,000+\n",
      "Al Quran : EAlim - Translations & MP3 Offline : 5,000,000+\n",
      "Koran Read &MP3 30 Juz Offline : 1,000,000+\n",
      "Hafizi Quran 15 lines per page : 1,000,000+\n",
      "Quran for Android : 10,000,000+\n",
      "Satellite AR : 1,000,000+\n",
      "Oxford A-Z of English Usage : 1,000,000+\n",
      "Dictionary.com: Find Definitions for English Words : 10,000,000+\n",
      "English Dictionary - Offline : 10,000,000+\n",
      "Bible KJV : 5,000,000+\n",
      "NOOK: Read eBooks & Magazines : 10,000,000+\n",
      "Brilliant Quotes: Life, Love, Family & Motivation : 1,000,000+\n",
      "Stats Royale for Clash Royale : 1,000,000+\n",
      "Dictionary : 10,000,000+\n",
      "wikiHow: how to do anything : 1,000,000+\n",
      "EGW Writings : 1,000,000+\n",
      "My Little Pony AR Guide : 1,000,000+\n",
      "Spanish English Translator : 10,000,000+\n",
      "Dictionary - Merriam-Webster : 10,000,000+\n",
      "JW Library : 10,000,000+\n",
      "Oxford Dictionary of English : Free : 10,000,000+\n",
      "English Hindi Dictionary : 10,000,000+\n",
      "English to Hindi Dictionary : 5,000,000+\n"
     ]
    }
   ],
   "source": [
    "for app in android_final:\n",
    "    if app[1] == 'BOOKS_AND_REFERENCE' and (app[5] == '1,000,000+'\n",
    "                                           or app[5] == '5,000,000+'\n",
    "                                           or app[5] == '10,000,000+'\n",
    "                                           or app[5] == '50,000,000+'):\n",
    "        print(app[0], ':', app[5])"
   ]
  },
  {
   "cell_type": "markdown",
   "id": "2b252e5d-95f1-4f80-81ef-66ff76fed3a7",
   "metadata": {},
   "source": [
    "The market for ebook processing and reading software, as well as extensive libraries and dictionaries, appears to be highly competitive. Given the dominance of these types of apps, entering this space with a similar offering may not be advisable due to the significant competition.\n",
    "\n",
    "However, we’ve observed a notable number of apps dedicated to the Quran, indicating that apps centered around popular books can indeed be profitable. Developing an app based on a well-known book (potentially a more recent bestseller) could offer opportunities for success in both the Google Play and App Store markets.\n",
    "\n",
    "That said, the market is saturated with library apps, so simply providing a basic version of a book may not be enough. To stand out, consider incorporating unique features such as daily quotes from the book, an audio version, quizzes, or a discussion forum for readers."
   ]
  },
  {
   "cell_type": "markdown",
   "id": "3546079f-b545-481e-98be-a2a1d6df7064",
   "metadata": {},
   "source": [
    "## Conclusions\n",
    "\n",
    "In this project, we analyzed data from the App Store and Google Play to recommend an app profile that could be profitable in both markets.\n",
    "\n",
    "Our analysis suggests that developing an app based on a popular book, particularly a recent one, could be a successful strategy. Since both markets already have many basic e-book apps, adding unique features could help set the app apart. These features might include daily quotes from the book, an audio version, interactive quizzes, or a community forum for discussions."
   ]
  }
 ],
 "metadata": {
  "kernelspec": {
   "display_name": "Python 3 (ipykernel)",
   "language": "python",
   "name": "python3"
  },
  "language_info": {
   "codemirror_mode": {
    "name": "ipython",
    "version": 3
   },
   "file_extension": ".py",
   "mimetype": "text/x-python",
   "name": "python",
   "nbconvert_exporter": "python",
   "pygments_lexer": "ipython3",
   "version": "3.12.4"
  }
 },
 "nbformat": 4,
 "nbformat_minor": 5
}
